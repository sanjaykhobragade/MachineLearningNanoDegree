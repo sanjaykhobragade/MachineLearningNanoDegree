{
 "cells": [
  {
   "cell_type": "markdown",
   "metadata": {},
   "source": [
    "# Analyzing IMDB Data in Keras"
   ]
  },
  {
   "cell_type": "code",
   "execution_count": 1,
   "metadata": {},
   "outputs": [
    {
     "name": "stderr",
     "output_type": "stream",
     "text": [
      "Using TensorFlow backend.\n"
     ]
    }
   ],
   "source": [
    "# Imports\n",
    "import numpy as np\n",
    "import keras\n",
    "from keras.datasets import imdb\n",
    "from keras.models import Sequential\n",
    "from keras.layers import Dense, Dropout, Activation\n",
    "from keras.preprocessing.text import Tokenizer\n",
    "import matplotlib.pyplot as plt\n",
    "%matplotlib inline\n",
    "\n",
    "np.random.seed(42)"
   ]
  },
  {
   "cell_type": "markdown",
   "metadata": {},
   "source": [
    "## 1. Loading the data\n",
    "This dataset comes preloaded with Keras, so one simple command will get us training and testing data. There is a parameter for how many words we want to look at. We've set it at 1000, but feel free to experiment."
   ]
  },
  {
   "cell_type": "code",
   "execution_count": 2,
   "metadata": {},
   "outputs": [
    {
     "name": "stdout",
     "output_type": "stream",
     "text": [
      "(25000,)\n",
      "(25000,)\n"
     ]
    }
   ],
   "source": [
    "# Loading the data (it's preloaded in Keras)\n",
    "(x_train, y_train), (x_test, y_test) = imdb.load_data(num_words=1000)\n",
    "\n",
    "print(x_train.shape)\n",
    "print(x_test.shape)"
   ]
  },
  {
   "cell_type": "markdown",
   "metadata": {},
   "source": [
    "## 2. Examining the data\n",
    "Notice that the data has been already pre-processed, where all the words have numbers, and the reviews come in as a vector with the words that the review contains. For example, if the word 'the' is the first one in our dictionary, and a review contains the word 'the', then there is a 1 in the corresponding vector.\n",
    "\n",
    "The output comes as a vector of 1's and 0's, where 1 is a positive sentiment for the review, and 0 is negative."
   ]
  },
  {
   "cell_type": "code",
   "execution_count": 3,
   "metadata": {},
   "outputs": [
    {
     "name": "stdout",
     "output_type": "stream",
     "text": [
      "[1, 11, 2, 11, 4, 2, 745, 2, 299, 2, 590, 2, 2, 37, 47, 27, 2, 2, 2, 19, 6, 2, 15, 2, 2, 17, 2, 723, 2, 2, 757, 46, 4, 232, 2, 39, 107, 2, 11, 4, 2, 198, 24, 4, 2, 133, 4, 107, 7, 98, 413, 2, 2, 11, 35, 781, 8, 169, 4, 2, 5, 259, 334, 2, 8, 4, 2, 10, 10, 17, 16, 2, 46, 34, 101, 612, 7, 84, 18, 49, 282, 167, 2, 2, 122, 24, 2, 8, 177, 4, 392, 531, 19, 259, 15, 934, 40, 507, 39, 2, 260, 77, 8, 162, 2, 121, 4, 65, 304, 273, 13, 70, 2, 2, 8, 15, 745, 2, 5, 27, 322, 2, 2, 2, 70, 30, 2, 88, 17, 6, 2, 2, 29, 100, 30, 2, 50, 21, 18, 148, 15, 26, 2, 12, 152, 157, 10, 10, 21, 19, 2, 46, 50, 5, 4, 2, 112, 828, 6, 2, 4, 162, 2, 2, 517, 6, 2, 7, 4, 2, 2, 4, 351, 232, 385, 125, 6, 2, 39, 2, 5, 29, 69, 2, 2, 6, 162, 2, 2, 232, 256, 34, 718, 2, 2, 8, 6, 226, 762, 7, 2, 2, 5, 517, 2, 6, 2, 7, 4, 351, 232, 37, 9, 2, 8, 123, 2, 2, 2, 188, 2, 857, 11, 4, 86, 22, 121, 29, 2, 2, 10, 10, 2, 61, 514, 11, 14, 22, 9, 2, 2, 14, 575, 208, 159, 2, 16, 2, 5, 187, 15, 58, 29, 93, 6, 2, 7, 395, 62, 30, 2, 493, 37, 26, 66, 2, 29, 299, 4, 172, 243, 7, 217, 11, 4, 2, 2, 22, 4, 2, 2, 13, 70, 243, 7, 2, 19, 2, 11, 15, 236, 2, 136, 121, 29, 5, 2, 26, 112, 2, 180, 34, 2, 2, 5, 320, 4, 162, 2, 568, 319, 4, 2, 2, 2, 269, 8, 401, 56, 19, 2, 16, 142, 334, 88, 146, 243, 7, 11, 2, 2, 150, 11, 4, 2, 2, 10, 10, 2, 828, 4, 206, 170, 33, 6, 52, 2, 225, 55, 117, 180, 58, 11, 14, 22, 48, 50, 16, 101, 329, 12, 62, 30, 35, 2, 2, 22, 2, 11, 4, 2, 2, 35, 735, 18, 118, 204, 881, 15, 291, 10, 10, 2, 82, 93, 52, 361, 7, 4, 162, 2, 2, 5, 4, 785, 2, 49, 7, 4, 172, 2, 7, 665, 26, 303, 343, 11, 23, 4, 2, 11, 192, 2, 11, 4, 2, 9, 44, 84, 24, 2, 54, 36, 66, 144, 11, 68, 205, 118, 602, 55, 729, 174, 8, 23, 4, 2, 10, 10, 2, 11, 4, 2, 127, 316, 2, 37, 16, 2, 19, 12, 150, 138, 426, 2, 2, 79, 49, 542, 162, 2, 2, 84, 11, 4, 392, 555]\n",
      "1\n"
     ]
    }
   ],
   "source": [
    "print(x_train[0])\n",
    "print(y_train[0])"
   ]
  },
  {
   "cell_type": "markdown",
   "metadata": {},
   "source": [
    "## 3. One-hot encoding the output\n",
    "Here, we'll turn the input vectors into (0,1)-vectors. For example, if the pre-processed vector contains the number 14, then in the processed vector, the 14th entry will be 1."
   ]
  },
  {
   "cell_type": "code",
   "execution_count": 4,
   "metadata": {},
   "outputs": [
    {
     "name": "stdout",
     "output_type": "stream",
     "text": [
      "[ 0.  1.  1.  0.  1.  1.  1.  1.  1.  1.  1.  1.  1.  1.  1.  1.  1.  1.\n",
      "  1.  1.  0.  1.  1.  1.  1.  0.  1.  1.  0.  1.  1.  0.  0.  1.  1.  1.\n",
      "  1.  1.  0.  1.  1.  0.  0.  0.  1.  0.  1.  1.  1.  1.  1.  0.  1.  0.\n",
      "  1.  1.  1.  0.  1.  0.  0.  1.  1.  0.  0.  1.  1.  0.  1.  1.  1.  0.\n",
      "  0.  0.  0.  0.  0.  1.  0.  1.  0.  0.  1.  0.  1.  0.  1.  0.  1.  0.\n",
      "  0.  0.  0.  1.  0.  0.  0.  0.  1.  0.  1.  1.  0.  0.  0.  0.  0.  1.\n",
      "  0.  0.  0.  0.  1.  0.  0.  0.  0.  1.  1.  0.  0.  1.  1.  1.  0.  1.\n",
      "  0.  1.  0.  0.  0.  0.  0.  1.  0.  0.  1.  0.  1.  0.  0.  0.  1.  0.\n",
      "  1.  0.  1.  0.  1.  0.  1.  0.  1.  0.  0.  0.  0.  1.  0.  1.  0.  0.\n",
      "  1.  0.  0.  0.  0.  1.  0.  1.  1.  0.  1.  0.  1.  0.  0.  1.  0.  0.\n",
      "  1.  0.  0.  0.  0.  0.  0.  1.  1.  0.  0.  0.  1.  0.  0.  0.  0.  0.\n",
      "  1.  0.  0.  0.  0.  0.  1.  1.  1.  0.  1.  0.  0.  0.  0.  0.  0.  0.\n",
      "  0.  1.  0.  0.  0.  0.  0.  0.  0.  1.  1.  0.  0.  0.  0.  0.  1.  0.\n",
      "  0.  0.  1.  0.  0.  0.  0.  0.  0.  1.  0.  0.  0.  0.  0.  0.  0.  0.\n",
      "  0.  0.  0.  0.  1.  0.  0.  1.  1.  0.  0.  0.  0.  0.  0.  0.  0.  1.\n",
      "  0.  0.  0.  1.  0.  0.  0.  0.  0.  0.  0.  0.  1.  0.  0.  0.  0.  0.\n",
      "  0.  0.  0.  1.  0.  0.  0.  0.  0.  0.  0.  1.  0.  0.  0.  1.  1.  0.\n",
      "  0.  0.  0.  0.  0.  0.  0.  0.  0.  0.  1.  0.  0.  1.  1.  0.  1.  0.\n",
      "  0.  0.  0.  0.  0.  1.  0.  0.  0.  0.  1.  0.  0.  0.  0.  0.  0.  0.\n",
      "  0.  1.  0.  0.  0.  0.  0.  0.  0.  1.  0.  0.  0.  0.  0.  0.  0.  0.\n",
      "  0.  1.  0.  0.  0.  0.  0.  0.  0.  0.  0.  0.  0.  0.  0.  0.  0.  0.\n",
      "  0.  0.  0.  0.  0.  0.  0.  1.  0.  0.  0.  0.  0.  0.  1.  0.  0.  1.\n",
      "  0.  0.  0.  0.  0.  1.  0.  0.  0.  0.  0.  0.  0.  0.  0.  0.  0.  1.\n",
      "  0.  0.  0.  0.  0.  0.  0.  0.  0.  0.  0.  0.  1.  0.  0.  0.  0.  0.\n",
      "  0.  0.  0.  0.  0.  0.  0.  0.  0.  0.  0.  0.  0.  0.  0.  0.  0.  0.\n",
      "  0.  0.  0.  0.  0.  0.  0.  0.  0.  0.  0.  0.  0.  0.  0.  0.  0.  0.\n",
      "  0.  0.  0.  0.  0.  0.  0.  0.  0.  0.  0.  0.  0.  0.  0.  0.  0.  0.\n",
      "  0.  0.  0.  0.  0.  0.  0.  1.  0.  0.  0.  0.  0.  0.  0.  0.  0.  0.\n",
      "  0.  0.  0.  1.  0.  0.  0.  0.  0.  0.  1.  0.  0.  1.  0.  0.  0.  0.\n",
      "  0.  0.  0.  0.  0.  0.  0.  0.  0.  1.  0.  0.  0.  0.  0.  0.  0.  0.\n",
      "  0.  0.  1.  0.  0.  0.  0.  0.  0.  0.  0.  0.  0.  0.  0.  1.  0.  0.\n",
      "  0.  0.  0.  0.  0.  0.  0.  0.  0.  0.  1.  0.  0.  0.  0.  0.  0.  1.\n",
      "  0.  0.  0.  0.  0.  0.  0.  0.  0.  0.  0.  0.  0.  0.  1.  0.  0.  0.\n",
      "  0.  0.  0.  0.  0.  0.  0.  0.  1.  0.  0.  0.  0.  0.  0.  0.  0.  0.\n",
      "  1.  0.  0.  0.  0.  0.  0.  0.  0.  0.  0.  0.  0.  0.  0.  0.  0.  0.\n",
      "  0.  0.  0.  0.  0.  0.  0.  0.  0.  0.  0.  0.  0.  0.  0.  0.  0.  0.\n",
      "  0.  0.  0.  0.  0.  0.  0.  0.  0.  0.  0.  0.  0.  0.  0.  0.  0.  1.\n",
      "  0.  0.  0.  0.  0.  0.  0.  0.  0.  0.  0.  0.  0.  0.  0.  0.  0.  0.\n",
      "  0.  0.  0.  0.  0.  0.  0.  0.  0.  0.  0.  0.  0.  0.  0.  0.  0.  0.\n",
      "  0.  0.  0.  0.  0.  0.  0.  0.  0.  0.  0.  0.  0.  0.  0.  0.  1.  0.\n",
      "  0.  0.  0.  1.  0.  0.  0.  0.  0.  1.  0.  0.  0.  0.  0.  1.  0.  0.\n",
      "  0.  0.  0.  0.  0.  0.  0.  1.  0.  0.  0.  0.  0.  0.  0.  0.  0.  0.\n",
      "  0.  1.  0.  0.  0.  0.  1.  0.  0.  0.  0.  0.  0.  0.  0.  0.  0.  0.\n",
      "  0.  0.  0.  0.  0.  0.  0.  1.  0.  0.  0.  1.  0.  0.  0.  0.  0.  0.\n",
      "  0.  0.  0.  0.  0.  0.  0.  0.  0.  0.  0.  0.  0.  0.  0.  0.  0.  0.\n",
      "  0.  0.  0.  0.  0.  0.  0.  0.  0.  0.  0.  0.  0.  0.  0.  0.  0.  0.\n",
      "  1.  0.  0.  0.  0.  0.  0.  0.  0.  0.  0.  0.  0.  0.  0.  0.  0.  0.\n",
      "  0.  0.  0.  0.  0.  0.  0.  0.  0.  0.  0.  1.  0.  0.  0.  0.  0.  0.\n",
      "  0.  0.  0.  0.  0.  0.  0.  0.  0.  0.  0.  0.  0.  0.  0.  0.  0.  1.\n",
      "  0.  0.  0.  0.  0.  0.  0.  0.  0.  0.  0.  0.  0.  0.  0.  0.  0.  0.\n",
      "  0.  0.  0.  0.  0.  0.  0.  0.  0.  0.  0.  0.  0.  0.  0.  0.  0.  0.\n",
      "  0.  0.  0.  0.  0.  0.  0.  0.  0.  0.  0.  0.  0.  0.  0.  0.  1.  0.\n",
      "  0.  0.  0.  0.  0.  0.  0.  0.  0.  0.  0.  0.  0.  0.  0.  0.  0.  0.\n",
      "  0.  0.  0.  0.  0.  0.  0.  0.  0.  0.  0.  0.  0.  0.  0.  0.  0.  0.\n",
      "  0.  0.  0.  0.  0.  0.  0.  0.  0.  0.  0.  0.  0.  0.  0.  0.  0.  0.\n",
      "  0.  0.  0.  0.  0.  0.  0.  0.  0.  0.]\n"
     ]
    }
   ],
   "source": [
    "# One-hot encoding the output into vector mode, each of length 1000\n",
    "tokenizer = Tokenizer(num_words=1000)\n",
    "x_train = tokenizer.sequences_to_matrix(x_train, mode='binary')\n",
    "x_test = tokenizer.sequences_to_matrix(x_test, mode='binary')\n",
    "print(x_train[0])"
   ]
  },
  {
   "cell_type": "markdown",
   "metadata": {},
   "source": [
    "And we'll also one-hot encode the output."
   ]
  },
  {
   "cell_type": "code",
   "execution_count": 5,
   "metadata": {},
   "outputs": [
    {
     "name": "stdout",
     "output_type": "stream",
     "text": [
      "(25000, 2)\n",
      "(25000, 2)\n"
     ]
    }
   ],
   "source": [
    "# One-hot encoding the output\n",
    "num_classes = 2\n",
    "y_train = keras.utils.to_categorical(y_train, num_classes)\n",
    "y_test = keras.utils.to_categorical(y_test, num_classes)\n",
    "print(y_train.shape)\n",
    "print(y_test.shape)"
   ]
  },
  {
   "cell_type": "markdown",
   "metadata": {},
   "source": [
    "## 4. Building the  model architecture\n",
    "Build a model here using sequential. \n",
    "Feel free to experiment with different layers and sizes! \n",
    "Also, experiment adding dropout to reduce overfitting."
   ]
  },
  {
   "cell_type": "code",
   "execution_count": 6,
   "metadata": {},
   "outputs": [
    {
     "name": "stdout",
     "output_type": "stream",
     "text": [
      "_________________________________________________________________\n",
      "Layer (type)                 Output Shape              Param #   \n",
      "=================================================================\n",
      "dense_1 (Dense)              (None, 128)               128128    \n",
      "_________________________________________________________________\n",
      "dropout_1 (Dropout)          (None, 128)               0         \n",
      "_________________________________________________________________\n",
      "dense_2 (Dense)              (None, 64)                8256      \n",
      "_________________________________________________________________\n",
      "dropout_2 (Dropout)          (None, 64)                0         \n",
      "_________________________________________________________________\n",
      "dense_3 (Dense)              (None, 2)                 130       \n",
      "=================================================================\n",
      "Total params: 136,514\n",
      "Trainable params: 136,514\n",
      "Non-trainable params: 0\n",
      "_________________________________________________________________\n"
     ]
    }
   ],
   "source": [
    "# TODO: Build the model architecture\n",
    "\n",
    "model = Sequential()\n",
    "model.add(Dense(128, activation='sigmoid',input_shape=(1000, )))\n",
    "model.add(Dropout(.2))\n",
    "model.add(Dense(64, activation='sigmoid'))\n",
    "model.add(Dropout(.1))\n",
    "model.add(Dense(2, activation='softmax'))\n",
    "\n",
    "# TODO: Compile the model using a loss function and an optimizer.\n",
    "model.compile(loss = 'categorical_crossentropy', optimizer='Adam', metrics=['accuracy'])\n",
    "model.summary()"
   ]
  },
  {
   "cell_type": "markdown",
   "metadata": {},
   "source": [
    "## 5. Training the model\n",
    "Run the model here. \n",
    "Experiment with different batch_size, and number of epochs!"
   ]
  },
  {
   "cell_type": "code",
   "execution_count": 7,
   "metadata": {},
   "outputs": [
    {
     "name": "stdout",
     "output_type": "stream",
     "text": [
      "Epoch 1/100\n",
      "25000/25000 [==============================] - 2s 91us/step - loss: 0.5102 - acc: 0.7428\n",
      "Epoch 2/100\n",
      "25000/25000 [==============================] - 2s 82us/step - loss: 0.3448 - acc: 0.8511\n",
      "Epoch 3/100\n",
      "25000/25000 [==============================] - 2s 87us/step - loss: 0.3213 - acc: 0.8618\n",
      "Epoch 4/100\n",
      "25000/25000 [==============================] - 2s 85us/step - loss: 0.3129 - acc: 0.8658\n",
      "Epoch 5/100\n",
      "25000/25000 [==============================] - 2s 88us/step - loss: 0.3072 - acc: 0.8701\n",
      "Epoch 6/100\n",
      "25000/25000 [==============================] - 2s 84us/step - loss: 0.3030 - acc: 0.8719\n",
      "Epoch 7/100\n",
      "25000/25000 [==============================] - 2s 86us/step - loss: 0.2992 - acc: 0.8737\n",
      "Epoch 8/100\n",
      "25000/25000 [==============================] - 2s 82us/step - loss: 0.2974 - acc: 0.8744\n",
      "Epoch 9/100\n",
      "25000/25000 [==============================] - 2s 87us/step - loss: 0.2942 - acc: 0.8765\n",
      "Epoch 10/100\n",
      "25000/25000 [==============================] - 2s 90us/step - loss: 0.2922 - acc: 0.8759\n",
      "Epoch 11/100\n",
      "25000/25000 [==============================] - 2s 90us/step - loss: 0.2888 - acc: 0.8776\n",
      "Epoch 12/100\n",
      "25000/25000 [==============================] - 2s 88us/step - loss: 0.2875 - acc: 0.8781\n",
      "Epoch 13/100\n",
      "25000/25000 [==============================] - 2s 91us/step - loss: 0.2825 - acc: 0.8820\n",
      "Epoch 14/100\n",
      "25000/25000 [==============================] - 2s 84us/step - loss: 0.2799 - acc: 0.8822\n",
      "Epoch 15/100\n",
      "25000/25000 [==============================] - 2s 82us/step - loss: 0.2762 - acc: 0.8849\n",
      "Epoch 16/100\n",
      "25000/25000 [==============================] - 2s 87us/step - loss: 0.2769 - acc: 0.8844\n",
      "Epoch 17/100\n",
      "25000/25000 [==============================] - 2s 82us/step - loss: 0.2697 - acc: 0.8884\n",
      "Epoch 18/100\n",
      "25000/25000 [==============================] - 2s 84us/step - loss: 0.2674 - acc: 0.8884\n",
      "Epoch 19/100\n",
      "25000/25000 [==============================] - 2s 86us/step - loss: 0.2632 - acc: 0.8906\n",
      "Epoch 20/100\n",
      "25000/25000 [==============================] - 2s 85us/step - loss: 0.2608 - acc: 0.8912\n",
      "Epoch 21/100\n",
      "25000/25000 [==============================] - 2s 97us/step - loss: 0.2554 - acc: 0.8933\n",
      "Epoch 22/100\n",
      "25000/25000 [==============================] - 2s 98us/step - loss: 0.2492 - acc: 0.8981\n",
      "Epoch 23/100\n",
      "25000/25000 [==============================] - 2s 96us/step - loss: 0.2437 - acc: 0.8996\n",
      "Epoch 24/100\n",
      "25000/25000 [==============================] - 2s 88us/step - loss: 0.2371 - acc: 0.9026\n",
      "Epoch 25/100\n",
      "25000/25000 [==============================] - 2s 89us/step - loss: 0.2310 - acc: 0.9060\n",
      "Epoch 26/100\n",
      "25000/25000 [==============================] - 2s 80us/step - loss: 0.2230 - acc: 0.9099\n",
      "Epoch 27/100\n",
      "25000/25000 [==============================] - 2s 89us/step - loss: 0.2134 - acc: 0.9130\n",
      "Epoch 28/100\n",
      "25000/25000 [==============================] - 2s 87us/step - loss: 0.2065 - acc: 0.9171\n",
      "Epoch 29/100\n",
      "25000/25000 [==============================] - 2s 88us/step - loss: 0.1935 - acc: 0.9239\n",
      "Epoch 30/100\n",
      "25000/25000 [==============================] - 2s 87us/step - loss: 0.1824 - acc: 0.9294\n",
      "Epoch 31/100\n",
      "25000/25000 [==============================] - 2s 89us/step - loss: 0.1706 - acc: 0.9348\n",
      "Epoch 32/100\n",
      "25000/25000 [==============================] - 2s 85us/step - loss: 0.1609 - acc: 0.9385\n",
      "Epoch 33/100\n",
      "25000/25000 [==============================] - 2s 84us/step - loss: 0.1450 - acc: 0.9451\n",
      "Epoch 34/100\n",
      "25000/25000 [==============================] - 2s 85us/step - loss: 0.1356 - acc: 0.9497\n",
      "Epoch 35/100\n",
      "25000/25000 [==============================] - 2s 85us/step - loss: 0.1248 - acc: 0.9550\n",
      "Epoch 36/100\n",
      "25000/25000 [==============================] - 2s 97us/step - loss: 0.1140 - acc: 0.9582\n",
      "Epoch 37/100\n",
      "25000/25000 [==============================] - 2s 85us/step - loss: 0.1030 - acc: 0.9638\n",
      "Epoch 38/100\n",
      "25000/25000 [==============================] - 2s 85us/step - loss: 0.0933 - acc: 0.9658\n",
      "Epoch 39/100\n",
      "25000/25000 [==============================] - 2s 89us/step - loss: 0.0869 - acc: 0.9693\n",
      "Epoch 40/100\n",
      "25000/25000 [==============================] - 2s 87us/step - loss: 0.0774 - acc: 0.9716\n",
      "Epoch 41/100\n",
      "25000/25000 [==============================] - 2s 87us/step - loss: 0.0722 - acc: 0.9742\n",
      "Epoch 42/100\n",
      "25000/25000 [==============================] - 2s 86us/step - loss: 0.0643 - acc: 0.9765\n",
      "Epoch 43/100\n",
      "25000/25000 [==============================] - 2s 93us/step - loss: 0.0610 - acc: 0.9788\n",
      "Epoch 44/100\n",
      "25000/25000 [==============================] - 2s 100us/step - loss: 0.0559 - acc: 0.9811\n",
      "Epoch 45/100\n",
      "25000/25000 [==============================] - 2s 88us/step - loss: 0.0553 - acc: 0.9808\n",
      "Epoch 46/100\n",
      "25000/25000 [==============================] - 2s 92us/step - loss: 0.0497 - acc: 0.9821\n",
      "Epoch 47/100\n",
      "25000/25000 [==============================] - 2s 91us/step - loss: 0.0437 - acc: 0.9846\n",
      "Epoch 48/100\n",
      "25000/25000 [==============================] - 2s 85us/step - loss: 0.0415 - acc: 0.9856\n",
      "Epoch 49/100\n",
      "25000/25000 [==============================] - 2s 98us/step - loss: 0.0371 - acc: 0.9876\n",
      "Epoch 50/100\n",
      "25000/25000 [==============================] - 2s 99us/step - loss: 0.0364 - acc: 0.9862\n",
      "Epoch 51/100\n",
      "25000/25000 [==============================] - 2s 80us/step - loss: 0.0333 - acc: 0.9880\n",
      "Epoch 52/100\n",
      "25000/25000 [==============================] - 2s 85us/step - loss: 0.0329 - acc: 0.9892\n",
      "Epoch 53/100\n",
      "25000/25000 [==============================] - 2s 85us/step - loss: 0.0300 - acc: 0.9892\n",
      "Epoch 54/100\n",
      "25000/25000 [==============================] - 2s 82us/step - loss: 0.0293 - acc: 0.9896\n",
      "Epoch 55/100\n",
      "25000/25000 [==============================] - 2s 91us/step - loss: 0.0276 - acc: 0.9904\n",
      "Epoch 56/100\n",
      "25000/25000 [==============================] - 2s 91us/step - loss: 0.0270 - acc: 0.9908\n",
      "Epoch 57/100\n",
      "25000/25000 [==============================] - 2s 92us/step - loss: 0.0235 - acc: 0.9915\n",
      "Epoch 58/100\n",
      "25000/25000 [==============================] - 2s 86us/step - loss: 0.0232 - acc: 0.9918\n",
      "Epoch 59/100\n",
      "25000/25000 [==============================] - 2s 87us/step - loss: 0.0206 - acc: 0.9928\n",
      "Epoch 60/100\n",
      "25000/25000 [==============================] - 2s 91us/step - loss: 0.0220 - acc: 0.9928\n",
      "Epoch 61/100\n",
      "25000/25000 [==============================] - 2s 89us/step - loss: 0.0227 - acc: 0.9925\n",
      "Epoch 62/100\n",
      "25000/25000 [==============================] - 2s 85us/step - loss: 0.0216 - acc: 0.9928\n",
      "Epoch 63/100\n",
      "25000/25000 [==============================] - 2s 92us/step - loss: 0.0180 - acc: 0.9934\n",
      "Epoch 64/100\n",
      "25000/25000 [==============================] - 2s 88us/step - loss: 0.0187 - acc: 0.9933\n",
      "Epoch 65/100\n",
      "25000/25000 [==============================] - 2s 87us/step - loss: 0.0179 - acc: 0.9940\n",
      "Epoch 66/100\n",
      "25000/25000 [==============================] - 2s 78us/step - loss: 0.0157 - acc: 0.9945\n",
      "Epoch 67/100\n",
      "25000/25000 [==============================] - 2s 83us/step - loss: 0.0159 - acc: 0.9945\n",
      "Epoch 68/100\n",
      "25000/25000 [==============================] - 2s 95us/step - loss: 0.0162 - acc: 0.9938\n",
      "Epoch 69/100\n",
      "25000/25000 [==============================] - 2s 91us/step - loss: 0.0151 - acc: 0.9947\n",
      "Epoch 70/100\n",
      "25000/25000 [==============================] - 2s 85us/step - loss: 0.0136 - acc: 0.9952\n",
      "Epoch 71/100\n",
      "25000/25000 [==============================] - 2s 83us/step - loss: 0.0142 - acc: 0.9948\n",
      "Epoch 72/100\n",
      "25000/25000 [==============================] - 2s 81us/step - loss: 0.0113 - acc: 0.9964\n",
      "Epoch 73/100\n",
      "25000/25000 [==============================] - 2s 98us/step - loss: 0.0140 - acc: 0.9951\n",
      "Epoch 74/100\n",
      "25000/25000 [==============================] - 2s 87us/step - loss: 0.0135 - acc: 0.9955\n",
      "Epoch 75/100\n",
      "25000/25000 [==============================] - 2s 91us/step - loss: 0.0117 - acc: 0.9960\n",
      "Epoch 76/100\n",
      "25000/25000 [==============================] - 2s 88us/step - loss: 0.0124 - acc: 0.9959\n",
      "Epoch 77/100\n",
      "25000/25000 [==============================] - 2s 89us/step - loss: 0.0112 - acc: 0.9962\n",
      "Epoch 78/100\n",
      "25000/25000 [==============================] - 2s 88us/step - loss: 0.0124 - acc: 0.9956\n",
      "Epoch 79/100\n",
      "25000/25000 [==============================] - 2s 84us/step - loss: 0.0102 - acc: 0.9963\n",
      "Epoch 80/100\n",
      "25000/25000 [==============================] - 2s 82us/step - loss: 0.0102 - acc: 0.9966\n",
      "Epoch 81/100\n",
      "25000/25000 [==============================] - 2s 88us/step - loss: 0.0111 - acc: 0.9960\n",
      "Epoch 82/100\n",
      "25000/25000 [==============================] - 2s 83us/step - loss: 0.0102 - acc: 0.9964\n",
      "Epoch 83/100\n",
      "25000/25000 [==============================] - 2s 84us/step - loss: 0.0096 - acc: 0.9967\n",
      "Epoch 84/100\n",
      "25000/25000 [==============================] - 2s 84us/step - loss: 0.0105 - acc: 0.9965\n",
      "Epoch 85/100\n",
      "25000/25000 [==============================] - 2s 85us/step - loss: 0.0084 - acc: 0.9972\n",
      "Epoch 86/100\n",
      "25000/25000 [==============================] - 2s 82us/step - loss: 0.0097 - acc: 0.9966\n",
      "Epoch 87/100\n",
      "25000/25000 [==============================] - 2s 84us/step - loss: 0.0089 - acc: 0.9970\n",
      "Epoch 88/100\n",
      "25000/25000 [==============================] - 2s 84us/step - loss: 0.0096 - acc: 0.9965\n",
      "Epoch 89/100\n",
      "25000/25000 [==============================] - 2s 85us/step - loss: 0.0104 - acc: 0.9962\n",
      "Epoch 90/100\n",
      "25000/25000 [==============================] - 2s 91us/step - loss: 0.0098 - acc: 0.9966\n",
      "Epoch 91/100\n",
      "25000/25000 [==============================] - 2s 84us/step - loss: 0.0086 - acc: 0.9969\n",
      "Epoch 92/100\n",
      "25000/25000 [==============================] - 2s 84us/step - loss: 0.0081 - acc: 0.9972\n",
      "Epoch 93/100\n",
      "25000/25000 [==============================] - 2s 86us/step - loss: 0.0092 - acc: 0.9968\n",
      "Epoch 94/100\n",
      "25000/25000 [==============================] - 2s 98us/step - loss: 0.0075 - acc: 0.9979\n",
      "Epoch 95/100\n",
      "25000/25000 [==============================] - 2s 87us/step - loss: 0.0084 - acc: 0.9972\n",
      "Epoch 96/100\n",
      "25000/25000 [==============================] - 2s 85us/step - loss: 0.0072 - acc: 0.9976\n",
      "Epoch 97/100\n",
      "25000/25000 [==============================] - 2s 90us/step - loss: 0.0077 - acc: 0.9974\n",
      "Epoch 98/100\n",
      "25000/25000 [==============================] - 2s 84us/step - loss: 0.0072 - acc: 0.9974\n",
      "Epoch 99/100\n",
      "25000/25000 [==============================] - 2s 89us/step - loss: 0.0076 - acc: 0.9971\n",
      "Epoch 100/100\n",
      "25000/25000 [==============================] - 2s 92us/step - loss: 0.0072 - acc: 0.9977\n"
     ]
    },
    {
     "data": {
      "text/plain": [
       "<keras.callbacks.History at 0x7fcd2d9bd588>"
      ]
     },
     "execution_count": 7,
     "metadata": {},
     "output_type": "execute_result"
    }
   ],
   "source": [
    "# TODO: Run the model. Feel free to experiment with different batch sizes and number of epochs.\n",
    "model.fit(x_train, y_train, epochs=100, batch_size=200, verbose=1)"
   ]
  },
  {
   "cell_type": "markdown",
   "metadata": {},
   "source": [
    "## 6. Evaluating the model\n",
    "This will give you the accuracy of the model, as evaluated on the testing set. Can you get something over 85%?"
   ]
  },
  {
   "cell_type": "code",
   "execution_count": 8,
   "metadata": {},
   "outputs": [
    {
     "name": "stdout",
     "output_type": "stream",
     "text": [
      "25000/25000 [==============================] - 2s 63us/step\n",
      "Accuracy:  0.85024\n"
     ]
    }
   ],
   "source": [
    "score = model.evaluate(x_test, y_test, verbose=1)\n",
    "print(\"Accuracy: \", score[1])"
   ]
  },
  {
   "cell_type": "code",
   "execution_count": null,
   "metadata": {},
   "outputs": [],
   "source": []
  }
 ],
 "metadata": {
  "kernelspec": {
   "display_name": "Python 3",
   "language": "python",
   "name": "python3"
  },
  "language_info": {
   "codemirror_mode": {
    "name": "ipython",
    "version": 3
   },
   "file_extension": ".py",
   "mimetype": "text/x-python",
   "name": "python",
   "nbconvert_exporter": "python",
   "pygments_lexer": "ipython3",
   "version": "3.6.3"
  }
 },
 "nbformat": 4,
 "nbformat_minor": 2
}
